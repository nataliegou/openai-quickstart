{
 "cells": [
  {
   "cell_type": "code",
   "execution_count": 1,
   "id": "4e060856-ebb5-44ea-99f1-86071db1a42f",
   "metadata": {},
   "outputs": [],
   "source": [
    "from openai import OpenAI\n",
    "import base64\n",
    "import requests\n",
    "import json\n",
    "from IPython.display import display, Markdown\n",
    "\n",
    "client = OpenAI()  # 初始化 OpenAI 客户端\n",
    "\n",
    "def query_base64_image_description(image_path, prompt, max_tokens=1000):\n",
    "\n",
    "    # 实现 Base64 编码\n",
    "    def encode_image(path):\n",
    "        with open(path, \"rb\") as image_file:\n",
    "            return base64.b64encode(image_file.read()).decode('utf-8')\n",
    "\n",
    "    # 获取图像的 Base64 编码字符串\n",
    "    base64_image = encode_image(image_path)\n",
    "\n",
    "    # 构造请求的 HTTP Header\n",
    "    headers = {\n",
    "        \"Content-Type\": \"application/json\",\n",
    "        \"Authorization\": f\"Bearer {client.api_key}\"\n",
    "    }\n",
    "\n",
    "    # 构造请求的负载\n",
    "    payload = {\n",
    "        \"model\": \"gpt-4-turbo\",\n",
    "        \"messages\": [\n",
    "            {\n",
    "                \"role\": \"user\",\n",
    "                \"content\": [\n",
    "                    {\"type\": \"text\", \"text\": prompt},\n",
    "                    {\"type\": \"image_url\", \"image_url\": {\"url\": f\"data:image/jpeg;base64,{base64_image}\"}}\n",
    "                ]\n",
    "            }\n",
    "        ],\n",
    "        \"max_tokens\": max_tokens\n",
    "    }\n",
    "\n",
    "    # 发送 HTTP 请求\n",
    "    response = requests.post(\"https://api.openai.com/v1/chat/completions\", headers=headers, json=payload)\n",
    "\n",
    "    # 检查响应并提取所需的 content 字段\n",
    "    if response.status_code == 200:\n",
    "        response_data = response.json()\n",
    "        content = response_data['choices'][0]['message']['content']\n",
    "        return content\n",
    "    else:\n",
    "        return f\"Error: {response.status_code}, {response.text}\""
   ]
  },
  {
   "cell_type": "code",
   "execution_count": 2,
   "id": "62735a59-2380-4a87-b8ae-a0864247730d",
   "metadata": {},
   "outputs": [],
   "source": [
    "def picture_explained(image_path, prompt=\"解释下图里的内容？\"):\n",
    "    content = query_base64_image_description(image_path, prompt)\n",
    "    display(Markdown(content))"
   ]
  },
  {
   "cell_type": "code",
   "execution_count": 8,
   "id": "75bfb443-1235-44a8-bb8d-2b0dd200aacd",
   "metadata": {},
   "outputs": [
    {
     "data": {
      "text/markdown": [
       "文字内容：\n",
       "下列关于虚拟内存不换页技术的叙述中，哪项错误？\n",
       "A. 虚拟内存是为了使得互操作系统可以使用更多的内存地址\n",
       "B. 避免虚拟内存换页可以减少虚拟内存的使用和提高系统的响应速度。\n",
       "C. 一个虚拟内存的换页需求变化较难预测与控制\n",
       "D. 脏页更换算法(MMU)在虚拟内存更换过程中起主导作用。\n",
       "\n",
       "问题解答：\n",
       "答案：A\n",
       "\n",
       "作答理由：\n",
       "选项A表述“虚拟内存是为了使得操作系统可以使用更多的内存地址”，实际上，虚拟内存的主要目的是让操作系统能高效管理有限的物理内存资源，并不是直接为了增加内存地址的数量，而是通过地址转换机制（物理地址与虚拟地址之间的映射），让操作系统和程序认为有更多的内存可用。\n",
       "\n",
       "选项B提到不换页可以减少虚拟内存使用和提高系统响应速度，这部分是正确的，因为频繁的页换入换出会导致较高的系统开销和延迟。\n",
       "\n",
       "选项C指出虚拟内存的换页需求变化难以预测和控制也是正确的，因为页访问的模式往往依赖于程序的具体行为，其动态性使得预测变得复杂。\n",
       "\n",
       "选项D中的“脏页更换算法(MMU)”描述不准确。MMU（内存管理单元）主要负责虚拟地址到物理地址的转换，而具体页的替换算法通常由操作系统中的页面替换算法部分来处理，而不是MMU。不过，因为MMU涉及到脏页（修改过需写回的页）的标识及处理，可能造成混淆，但核心替换算法逻辑不由MMU执行。选项D有一定的表述不清，但相比A选项的错误，D选项表述的错误程度较轻。"
      ],
      "text/plain": [
       "<IPython.core.display.Markdown object>"
      ]
     },
     "metadata": {},
     "output_type": "display_data"
    }
   ],
   "source": [
    "prompt = \"\"\"这是一个操作系统相关的选择题，请先识别出图片中的文字，然后分析这段文字描述的问题，最后给出你的答案和作答理由。\n",
    "要求输出格式包含‘文字内容’和‘问题解答’两个模块，‘文字内容’请尽可能保持其在图片中的原有的格式，‘问题解答’需要包含答案和作答理由两部分。\"\"\"\n",
    "\n",
    "picture_explained(\"../../openai_api/images/gpt-4v.jpg\", prompt)"
   ]
  },
  {
   "cell_type": "code",
   "execution_count": null,
   "id": "0b24b095-b365-48e2-a9e0-e36b12f72d15",
   "metadata": {},
   "outputs": [],
   "source": []
  }
 ],
 "metadata": {
  "kernelspec": {
   "display_name": "Python 3 (ipykernel)",
   "language": "python",
   "name": "python3"
  },
  "language_info": {
   "codemirror_mode": {
    "name": "ipython",
    "version": 3
   },
   "file_extension": ".py",
   "mimetype": "text/x-python",
   "name": "python",
   "nbconvert_exporter": "python",
   "pygments_lexer": "ipython3",
   "version": "3.10.14"
  }
 },
 "nbformat": 4,
 "nbformat_minor": 5
}
